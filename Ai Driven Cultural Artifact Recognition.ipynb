{
 "cells": [
  {
   "cell_type": "code",
   "execution_count": 1,
   "id": "1a3223b9-9041-4d86-bfe5-24f8c15421d7",
   "metadata": {},
   "outputs": [
    {
     "ename": "AttributeError",
     "evalue": "'MessageFactory' object has no attribute 'GetPrototype'",
     "output_type": "error",
     "traceback": [
      "\u001b[1;31m---------------------------------------------------------------------------\u001b[0m",
      "\u001b[1;31mAttributeError\u001b[0m                            Traceback (most recent call last)",
      "\u001b[1;31mAttributeError\u001b[0m: 'MessageFactory' object has no attribute 'GetPrototype'"
     ]
    },
    {
     "ename": "AttributeError",
     "evalue": "'MessageFactory' object has no attribute 'GetPrototype'",
     "output_type": "error",
     "traceback": [
      "\u001b[1;31m---------------------------------------------------------------------------\u001b[0m",
      "\u001b[1;31mAttributeError\u001b[0m                            Traceback (most recent call last)",
      "\u001b[1;31mAttributeError\u001b[0m: 'MessageFactory' object has no attribute 'GetPrototype'"
     ]
    },
    {
     "name": "stdout",
     "output_type": "stream",
     "text": [
      "WARNING:tensorflow:`input_shape` is undefined or non-square, or `rows` is not in [96, 128, 160, 192, 224]. Weights for input shape (224, 224) will be loaded as the default.\n"
     ]
    },
    {
     "name": "stderr",
     "output_type": "stream",
     "text": [
      "C:\\Users\\beatb\\anaconda3\\envs\\tf13-py310\\lib\\site-packages\\PIL\\Image.py:3570: UserWarning: image file could not be identified because AVIF support not installed\n",
      "  warnings.warn(message)\n"
     ]
    },
    {
     "name": "stdout",
     "output_type": "stream",
     "text": [
      "❌ Error loading coin37.jpg: cannot identify image file 'image\\\\coin37.jpg'\n",
      "Epoch 1/30\n",
      "5/5 [==============================] - 5s 793ms/step - loss: 3.6126 - accuracy: 0.3088 - val_loss: 1.3723 - val_accuracy: 0.2857\n",
      "Epoch 2/30\n",
      "5/5 [==============================] - 4s 703ms/step - loss: 1.3845 - accuracy: 0.3529 - val_loss: 1.3695 - val_accuracy: 0.2000\n",
      "Epoch 3/30\n",
      "5/5 [==============================] - 4s 705ms/step - loss: 1.2427 - accuracy: 0.4779 - val_loss: 1.4490 - val_accuracy: 0.4286\n",
      "Epoch 4/30\n",
      "5/5 [==============================] - 4s 817ms/step - loss: 1.0223 - accuracy: 0.7059 - val_loss: 0.9421 - val_accuracy: 0.7429\n",
      "Epoch 5/30\n",
      "5/5 [==============================] - 5s 981ms/step - loss: 0.8262 - accuracy: 0.7721 - val_loss: 0.7697 - val_accuracy: 0.7143\n",
      "Epoch 6/30\n",
      "5/5 [==============================] - 5s 955ms/step - loss: 0.5107 - accuracy: 0.8309 - val_loss: 0.6072 - val_accuracy: 0.7143\n",
      "Epoch 7/30\n",
      "5/5 [==============================] - 5s 1s/step - loss: 0.3814 - accuracy: 0.8971 - val_loss: 0.6774 - val_accuracy: 0.6857\n",
      "Epoch 8/30\n",
      "5/5 [==============================] - 5s 1s/step - loss: 0.3118 - accuracy: 0.9118 - val_loss: 0.6936 - val_accuracy: 0.8000\n",
      "Epoch 9/30\n",
      "5/5 [==============================] - 7s 1s/step - loss: 0.3090 - accuracy: 0.8750 - val_loss: 1.2807 - val_accuracy: 0.6571\n",
      "Epoch 10/30\n",
      "5/5 [==============================] - 5s 955ms/step - loss: 0.2883 - accuracy: 0.9044 - val_loss: 0.8543 - val_accuracy: 0.7143\n",
      "Epoch 11/30\n",
      "5/5 [==============================] - 5s 943ms/step - loss: 0.2756 - accuracy: 0.9044 - val_loss: 0.7405 - val_accuracy: 0.7714\n"
     ]
    }
   ],
   "source": [
    "# training_and_features.py\n",
    "import os\n",
    "import numpy as np\n",
    "import pandas as pd\n",
    "import pickle\n",
    "from PIL import Image\n",
    "from sklearn.model_selection import train_test_split\n",
    "from sklearn.preprocessing import LabelEncoder\n",
    "from tensorflow.keras.utils import to_categorical\n",
    "from tensorflow.keras.models import Sequential, Model\n",
    "from tensorflow.keras.layers import Conv2D, MaxPooling2D, Flatten, Dense, Dropout\n",
    "from tensorflow.keras.callbacks import EarlyStopping\n",
    "from tensorflow.keras.applications.mobilenet_v2 import MobileNetV2, preprocess_input\n",
    "from tensorflow.keras.preprocessing.image import img_to_array\n",
    "import matplotlib.pyplot as plt\n",
    "\n",
    "# Load labels\n",
    "labels_df = pd.read_csv(\"labels.csv\",encoding='latin')\n",
    "labels_df = labels_df[[\"ï»¿Image\", \"Class\", \"Description\"]]\n",
    "\n",
    "# Encode labels\n",
    "le = LabelEncoder()\n",
    "labels_df[\"label_encoded\"] = le.fit_transform(labels_df[\"Class\"])\n",
    "\n",
    "# Load images\n",
    "image_dir = \"image\"\n",
    "image_data, image_labels, metadata, feature_vectors = [], [], [], []\n",
    "\n",
    "# Feature extractor model\n",
    "base_model = MobileNetV2(weights=\"imagenet\", include_top=False, pooling=\"avg\")\n",
    "feature_model = Model(inputs=base_model.input, outputs=base_model.output)\n",
    "\n",
    "for filename in os.listdir(image_dir):\n",
    "    if filename in labels_df[\"ï»¿Image\"].values:\n",
    "        try:\n",
    "            path = os.path.join(image_dir, filename)\n",
    "            img = Image.open(path).convert(\"RGB\").resize((224, 224))\n",
    "            array = np.array(img) / 255.0\n",
    "            image_data.append(array)\n",
    "\n",
    "            # Labels\n",
    "            label = labels_df.loc[labels_df[\"ï»¿Image\"] == filename, \"label_encoded\"].values[0]\n",
    "            image_labels.append(label)\n",
    "\n",
    "            # Metadata\n",
    "            cls = labels_df.loc[labels_df[\"ï»¿Image\"] == filename, \"Class\"].values[0]\n",
    "            desc = labels_df.loc[labels_df[\"ï»¿Image\"] == filename, \"Description\"].values[0]\n",
    "            metadata.append((filename, cls, desc))\n",
    "\n",
    "            # Feature Vector\n",
    "            pre_img = preprocess_input(img_to_array(img))\n",
    "            fv = feature_model.predict(np.expand_dims(pre_img, axis=0), verbose=0)[0]\n",
    "            feature_vectors.append(fv)\n",
    "\n",
    "        except Exception as e:\n",
    "            print(f\"❌ Error loading {filename}: {e}\")\n",
    "\n",
    "# Save metadata and vectors\n",
    "np.save(\"feature_vectors.npy\", np.array(feature_vectors))\n",
    "with open(\"metadata.pkl\", \"wb\") as f:\n",
    "    pickle.dump(metadata, f)\n",
    "with open(\"label_encoder.pkl\", \"wb\") as f:\n",
    "    pickle.dump(le, f)\n",
    "\n",
    "# Train CNN\n",
    "X = np.array(image_data)\n",
    "y = to_categorical(np.array(image_labels))\n",
    "X_train, X_val, y_train, y_val = train_test_split(X, y, test_size=0.2, random_state=42)\n",
    "\n",
    "model = Sequential([\n",
    "    Conv2D(32, (3, 3), activation='relu', input_shape=(224, 224, 3)),\n",
    "    MaxPooling2D(2, 2),\n",
    "    Conv2D(64, (3, 3), activation='relu'),\n",
    "    MaxPooling2D(2, 2),\n",
    "    Conv2D(128, (3, 3), activation='relu'),\n",
    "    MaxPooling2D(2, 2),\n",
    "    Flatten(),\n",
    "    Dense(128, activation='relu'),\n",
    "    Dropout(0.3),\n",
    "    Dense(y.shape[1], activation='softmax')\n",
    "])\n",
    "model.compile(optimizer='adam', loss='categorical_crossentropy', metrics=['accuracy'])\n",
    "history = model.fit(X_train, y_train, epochs=30, batch_size=32, validation_data=(X_val, y_val),\n",
    "                    callbacks=[EarlyStopping(patience=5, restore_best_weights=True)])\n",
    "model.save(\"artifact_model_0.keras\")\n"
   ]
  },
  {
   "cell_type": "code",
   "execution_count": 2,
   "id": "3bae65f5-5aca-4a44-9528-726347a65170",
   "metadata": {},
   "outputs": [],
   "source": [
    "import os\n",
    "\n",
    "os.environ[\"GOOGLE_APPLICATION_CREDENTIALS\"] = 'Artifact recognition/axial-glow-457306-g3-e0baa3ca77ed.json'\n"
   ]
  },
  {
   "cell_type": "code",
   "execution_count": 3,
   "id": "8be5b572-2f34-4504-824b-afb3c2ef2acd",
   "metadata": {},
   "outputs": [
    {
     "name": "stderr",
     "output_type": "stream",
     "text": [
      "C:\\Users\\beatb\\anaconda3\\envs\\tf13-py310\\lib\\site-packages\\tqdm\\auto.py:21: TqdmWarning: IProgress not found. Please update jupyter and ipywidgets. See https://ipywidgets.readthedocs.io/en/stable/user_install.html\n",
      "  from .autonotebook import tqdm as notebook_tqdm\n"
     ]
    },
    {
     "name": "stdout",
     "output_type": "stream",
     "text": [
      "WARNING:tensorflow:`input_shape` is undefined or non-square, or `rows` is not in [96, 128, 160, 192, 224]. Weights for input shape (224, 224) will be loaded as the default.\n",
      "* Running on local URL:  http://127.0.0.1:7860\n",
      "\n",
      "To create a public link, set `share=True` in `launch()`.\n"
     ]
    },
    {
     "data": {
      "text/html": [
       "<div><iframe src=\"http://127.0.0.1:7860/\" width=\"100%\" height=\"500\" allow=\"autoplay; camera; microphone; clipboard-read; clipboard-write;\" frameborder=\"0\" allowfullscreen></iframe></div>"
      ],
      "text/plain": [
       "<IPython.core.display.HTML object>"
      ]
     },
     "metadata": {},
     "output_type": "display_data"
    },
    {
     "name": "stdout",
     "output_type": "stream",
     "text": [
      "Keyboard interruption in main thread... closing server.\n"
     ]
    },
    {
     "data": {
      "text/plain": []
     },
     "execution_count": 3,
     "metadata": {},
     "output_type": "execute_result"
    }
   ],
   "source": [
    "import os\n",
    "import numpy as np\n",
    "import pickle\n",
    "from PIL import Image\n",
    "from sklearn.metrics.pairwise import cosine_similarity\n",
    "import gradio as gr\n",
    "from tensorflow.keras.models import load_model, Model\n",
    "from tensorflow.keras.applications.mobilenet_v2 import preprocess_input, MobileNetV2\n",
    "from tensorflow.keras.preprocessing.image import img_to_array\n",
    "from google.cloud import vision\n",
    "import wikipedia\n",
    "\n",
    "# Set Google credentials if needed\n",
    "os.environ[\"GOOGLE_APPLICATION_CREDENTIALS\"] = './axial-glow-457306-g3-e0baa3ca77ed.json' # Update this path!\n",
    "\n",
    "# Load saved data\n",
    "features = np.load(\"feature_vectors.npy\")\n",
    "with open(\"metadata.pkl\", \"rb\") as f:\n",
    "    metadata = pickle.load(f)\n",
    "with open(\"label_encoder.pkl\", \"rb\") as f:\n",
    "    le = pickle.load(f)\n",
    "cnn_model = load_model(\"artifact_model_0.keras\")\n",
    "\n",
    "# MobileNetV2 for feature extraction\n",
    "base_model = MobileNetV2(weights=\"imagenet\", include_top=False, pooling=\"avg\")\n",
    "feature_model = Model(inputs=base_model.input, outputs=base_model.output)\n",
    "\n",
    "# Initialize Google Vision client\n",
    "vision_client = vision.ImageAnnotatorClient()\n",
    "\n",
    "# Function to detect object name using Google Vision API\n",
    "def detect_object_google_vision(image_path):\n",
    "    with open(image_path, \"rb\") as image_file:\n",
    "        content = image_file.read()\n",
    "\n",
    "    image = vision.Image(content=content)\n",
    "    response = vision_client.web_detection(image=image)\n",
    "    web_detection = response.web_detection\n",
    "\n",
    "    if web_detection.web_entities:\n",
    "        # Take the top web entity (more artifact/object focused)\n",
    "        object_name = web_detection.web_entities[0].description\n",
    "        return object_name\n",
    "    else:\n",
    "        return None\n",
    "\n",
    "# Function to fetch a description from Wikipedia\n",
    "def fetch_wikipedia_summary(object_name):\n",
    "    try:\n",
    "        summary = wikipedia.summary(object_name, sentences=3)\n",
    "        return summary\n",
    "    except Exception as e:\n",
    "        return f\"No Wikipedia summary found for {object_name}.\"\n",
    "\n",
    "# Main function wrapped for Gradio\n",
    "def identify_image_gradio(image):\n",
    "    # Save uploaded image temporarily\n",
    "    temp_path = \"temp_uploaded_image.jpg\"\n",
    "    image.save(temp_path)\n",
    "\n",
    "    # Step 1: Feature vector extraction\n",
    "    img = Image.open(temp_path).convert(\"RGB\").resize((224, 224))\n",
    "    preprocessed = preprocess_input(img_to_array(img).astype(\"float32\"))\n",
    "    fv_input = feature_model.predict(np.expand_dims(preprocessed, axis=0), verbose=0)[0]\n",
    "\n",
    "    # Step 2: Cosine similarity\n",
    "    similarities = cosine_similarity([fv_input], features)[0]\n",
    "    best_match_idx = np.argmax(similarities)\n",
    "\n",
    "    if similarities[best_match_idx] >= 0.97:\n",
    "        filename, class_name, description = metadata[best_match_idx]\n",
    "        object_detected = \"Exact match found\"\n",
    "    else:\n",
    "        # CNN prediction\n",
    "        img_array = np.array(img) / 255.0\n",
    "        pred_class_idx = np.argmax(cnn_model.predict(np.expand_dims(img_array, axis=0), verbose=0))\n",
    "        class_name = le.inverse_transform([pred_class_idx])[0]\n",
    "\n",
    "        # Google Vision + Wikipedia\n",
    "        object_name = detect_object_google_vision(temp_path)\n",
    "        if object_name:\n",
    "            description = fetch_wikipedia_summary(object_name)\n",
    "            object_detected = object_name\n",
    "        else:\n",
    "            description = \"Object detection failed. No description available.\"\n",
    "            object_detected = \"Unknown\"\n",
    "\n",
    "    return class_name, object_detected, description\n",
    "\n",
    "# Gradio Interface\n",
    "interface = gr.Interface(\n",
    "    fn=identify_image_gradio,\n",
    "    inputs=gr.Image(type=\"pil\"),\n",
    "    outputs=[\n",
    "        gr.Textbox(label=\"Predicted Class\"),\n",
    "        gr.Textbox(label=\"Detected Object Name\"),\n",
    "        gr.Textbox(label=\"Historical Significance (Wikipedia Description)\")\n",
    "    ],\n",
    "    title=\"Artifact Recognition App\",\n",
    "    description=\"Upload an artifact image. The app identifies it using cosine similarity, CNN, Google Vision API, and Wikipedia.\"\n",
    ")\n",
    "\n",
    "interface.launch(debug=True)\n"
   ]
  },
  {
   "cell_type": "code",
   "execution_count": null,
   "id": "4a8f9473-9502-46d4-b8c4-4eba4cec319d",
   "metadata": {},
   "outputs": [],
   "source": []
  }
 ],
 "metadata": {
  "kernelspec": {
   "display_name": "Python (god mode)",
   "language": "python",
   "name": "tf13-py310"
  },
  "language_info": {
   "codemirror_mode": {
    "name": "ipython",
    "version": 3
   },
   "file_extension": ".py",
   "mimetype": "text/x-python",
   "name": "python",
   "nbconvert_exporter": "python",
   "pygments_lexer": "ipython3",
   "version": "3.10.16"
  }
 },
 "nbformat": 4,
 "nbformat_minor": 5
}
